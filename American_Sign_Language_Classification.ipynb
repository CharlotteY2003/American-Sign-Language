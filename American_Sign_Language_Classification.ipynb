{
  "nbformat": 4,
  "nbformat_minor": 0,
  "metadata": {
    "colab": {
      "name": "American Sign Language Classification.ipynb",
      "provenance": [],
      "mount_file_id": "105iU7JVS8EKtVnppgrkS_C9dTMmiUtet",
      "authorship_tag": "ABX9TyPCUC2TQNlmdqr//+yqLCwk",
      "include_colab_link": true
    },
    "kernelspec": {
      "name": "python3",
      "display_name": "Python 3"
    },
    "language_info": {
      "name": "python"
    }
  },
  "cells": [
    {
      "cell_type": "markdown",
      "metadata": {
        "id": "view-in-github",
        "colab_type": "text"
      },
      "source": [
        "<a href=\"https://colab.research.google.com/github/CharlotteY2003/American-Sign-Language/blob/main/American_Sign_Language_Classification.ipynb\" target=\"_parent\"><img src=\"https://colab.research.google.com/assets/colab-badge.svg\" alt=\"Open In Colab\"/></a>"
      ]
    },
    {
      "cell_type": "code",
      "metadata": {
        "id": "Zx3IasuiUruB"
      },
      "source": [
        "import pandas as pd\n",
        "import numpy as np\n",
        "import matplotlib.pyplot as plt\n",
        "from keras.models import Sequential\n",
        "from keras.layers import *\n",
        "from keras.optimizers import *\n",
        "from sklearn.model_selection import train_test_split\n",
        "from keras.preprocessing.image import ImageDataGenerator, image_dataset_from_directory, img_to_array, load_img\n",
        "import os\n",
        "from keras.callbacks import EarlyStopping\n",
        "from sklearn.model_selection import KFold"
      ],
      "execution_count": null,
      "outputs": []
    },
    {
      "cell_type": "code",
      "metadata": {
        "colab": {
          "base_uri": "https://localhost:8080/"
        },
        "id": "v8DDbyZsVdjW",
        "outputId": "da30445a-4c83-466e-a1b4-4b8857a7e12a"
      },
      "source": [
        "from google.colab import drive\n",
        "drive.mount('/content/drive')"
      ],
      "execution_count": null,
      "outputs": [
        {
          "output_type": "stream",
          "text": [
            "Drive already mounted at /content/drive; to attempt to forcibly remount, call drive.mount(\"/content/drive\", force_remount=True).\n"
          ],
          "name": "stdout"
        }
      ]
    },
    {
      "cell_type": "markdown",
      "metadata": {
        "id": "xNCxvbemXff7"
      },
      "source": [
        "#Data Importation"
      ]
    },
    {
      "cell_type": "code",
      "metadata": {
        "colab": {
          "base_uri": "https://localhost:8080/"
        },
        "id": "kOXb6cxVW91j",
        "outputId": "07eb14bc-160d-4d6f-d2ea-ea5cec27f489"
      },
      "source": [
        "print(os.listdir('./drive/MyDrive/AmericanSignLanguage/signs'))"
      ],
      "execution_count": null,
      "outputs": [
        {
          "output_type": "stream",
          "text": [
            "['23', '8', '5', '7', '6', '3', '9', '25', '24', '4', '15', '21', '18', '20', '17', '14', '16', '2', '22', '19', '10', '11', '0', '1', '12', '13']\n"
          ],
          "name": "stdout"
        }
      ]
    },
    {
      "cell_type": "code",
      "metadata": {
        "colab": {
          "base_uri": "https://localhost:8080/"
        },
        "id": "h0PujUe-aKSo",
        "outputId": "066a7bcd-ca07-4146-f402-c9a534c5b918"
      },
      "source": [
        "data_dir = './drive/MyDrive/AmericanSignLanguage/signs'\n",
        "deleted = 0\n",
        "\n",
        "for folder in os.listdir(data_dir):\n",
        "  file_path = os.path.join(data_dir,folder)\n",
        "  for file in file_path:\n",
        "    if (file.endswith('jpg')):\n",
        "      try:\n",
        "        image = open(os.path.join(file_path,file))\n",
        "        image.verify()\n",
        "      except:\n",
        "        deleted+=1\n",
        "        os.remove(file)\n",
        "      finally:\n",
        "        image.close()\n",
        "\n",
        "print('Number of images deleted: ', deleted)"
      ],
      "execution_count": null,
      "outputs": [
        {
          "output_type": "stream",
          "text": [
            "Number of images deleted:  0\n"
          ],
          "name": "stdout"
        }
      ]
    },
    {
      "cell_type": "code",
      "metadata": {
        "colab": {
          "base_uri": "https://localhost:8080/"
        },
        "id": "hj6VxuYtYRLi",
        "outputId": "5142c135-99b4-4216-c7d2-75094900de41"
      },
      "source": [
        "training_data = image_dataset_from_directory(data_dir,label_mode='int', color_mode='grayscale', seed=11,validation_split=.2,\n",
        "                                             subset='training', image_size=(256,256))\n",
        "val_data = image_dataset_from_directory(data_dir, label_mode='int', color_mode='grayscale', seed=11, validation_split=.2,\n",
        "                                        subset='validation', image_size=(256,256))\n",
        "\n",
        "\n",
        "test_data = val_data.skip(int(.7 * 164)) #total num of files/batch size = 164\n",
        "val_data = val_data.take(int(.7 * 164))"
      ],
      "execution_count": null,
      "outputs": [
        {
          "output_type": "stream",
          "text": [
            "Found 26207 files belonging to 26 classes.\n",
            "Using 20966 files for training.\n",
            "Found 26207 files belonging to 26 classes.\n",
            "Using 5241 files for validation.\n"
          ],
          "name": "stdout"
        }
      ]
    },
    {
      "cell_type": "code",
      "metadata": {
        "colab": {
          "base_uri": "https://localhost:8080/"
        },
        "id": "RoMu8RJsTNKp",
        "outputId": "2bf42f5c-9541-45d4-dcc0-ca65964e4c04"
      },
      "source": [
        "print(len(test_data))"
      ],
      "execution_count": null,
      "outputs": [
        {
          "output_type": "stream",
          "text": [
            "50\n"
          ],
          "name": "stdout"
        }
      ]
    },
    {
      "cell_type": "code",
      "metadata": {
        "colab": {
          "base_uri": "https://localhost:8080/"
        },
        "id": "NO_ggSG2TPhE",
        "outputId": "cb9e9e05-0a38-43ce-f67b-532fd98befa0"
      },
      "source": [
        "print(len(val_data))"
      ],
      "execution_count": null,
      "outputs": [
        {
          "output_type": "stream",
          "text": [
            "114\n"
          ],
          "name": "stdout"
        }
      ]
    },
    {
      "cell_type": "code",
      "metadata": {
        "colab": {
          "base_uri": "https://localhost:8080/",
          "height": 264
        },
        "id": "BEeTYh2au5pd",
        "outputId": "ac35ba58-fed3-4717-e846-8dc2f9a587dc"
      },
      "source": [
        "for images, labels in training_data.take(1):\n",
        "  for i in range(9):\n",
        "    plt.subplot(3,3,i+1)\n",
        "    img = images[i].numpy().astype('uint8')\n",
        "    img = img.reshape(256,256)\n",
        "    plt.imshow(img)\n",
        "    plt.title(int(labels[i]))\n",
        "    plt.axis('off')\n",
        "\n",
        "plt.show()"
      ],
      "execution_count": null,
      "outputs": [
        {
          "output_type": "display_data",
          "data": {
            "image/png": "[encoded data removed]",
            "text/plain": [
              "<Figure size 432x288 with 9 Axes>"
            ]
          },
          "metadata": {
            "tags": [],
            "needs_background": "light"
          }
        }
      ]
    },
    {
      "cell_type": "markdown",
      "metadata": {
        "id": "ouQxuP-ZXjFg"
      },
      "source": [
        "#Data Preprocessing"
      ]
    },
    {
      "cell_type": "code",
      "metadata": {
        "id": "3Z8-fOuGqjJf"
      },
      "source": [
        "batch_size = 32"
      ],
      "execution_count": null,
      "outputs": []
    },
    {
      "cell_type": "code",
      "metadata": {
        "id": "x5uAMvCUrE2G"
      },
      "source": [
        "train_gen = ImageDataGenerator(rotation_range=.3,width_shift_range=1, height_shift_range=1,\n",
        "                               dtype='float32', rescale=1/255.0)\n",
        "val_gen = ImageDataGenerator(rotation_range=.3,width_shift_range=1, height_shift_range=1,\n",
        "                               dtype='float32', rescale=1/255.0)"
      ],
      "execution_count": null,
      "outputs": []
    },
    {
      "cell_type": "code",
      "metadata": {
        "colab": {
          "base_uri": "https://localhost:8080/",
          "height": 265
        },
        "id": "zCylFIqpsTJn",
        "outputId": "e904d29d-e519-426f-a7ee-25d2033b35b0"
      },
      "source": [
        "samp_ds = train_gen.flow_from_directory(data_dir,color_mode='grayscale', seed=11, subset='training')\n",
        "images, labels = samp_ds[0]\n",
        "\n",
        "for i in range(9):\n",
        "  plt.subplot(3,3,i+1)\n",
        "  img = images[i].astype('uint8')\n",
        "  img = img.reshape(256,256)\n",
        "  plt.imshow(img)\n",
        "  plt.axis('off')\n",
        "\n",
        "plt.show()"
      ],
      "execution_count": null,
      "outputs": [
        {
          "output_type": "stream",
          "text": [
            "Found 26207 images belonging to 26 classes.\n"
          ],
          "name": "stdout"
        },
        {
          "output_type": "display_data",
          "data": {
            "image/png": "[encoded data removed]",
            "text/plain": [
              "<Figure size 432x288 with 9 Axes>"
            ]
          },
          "metadata": {
            "tags": [],
            "needs_background": "light"
          }
        }
      ]
    },
    {
      "cell_type": "markdown",
      "metadata": {
        "id": "Bo7LClVKXlX_"
      },
      "source": [
        "#Model Building"
      ]
    },
    {
      "cell_type": "code",
      "metadata": {
        "colab": {
          "base_uri": "https://localhost:8080/"
        },
        "id": "ugGoEn21VQqO",
        "outputId": "88458b8e-d6ad-43c4-a041-20620107054e"
      },
      "source": [
        "model = Sequential()\n",
        "\n",
        "model.add(Conv2D(32, kernel_size=(3,3), strides=(2,2), activation='relu', kernel_initializer='he_uniform', \n",
        "                 input_shape=(256,256,1), padding='same'))\n",
        "model.add(MaxPool2D(padding='same'))\n",
        "model.add(BatchNormalization())\n",
        "\n",
        "model.add(Conv2D(64, kernel_size=(3,3), strides=(2,2), activation='relu', kernel_initializer='he_uniform', padding='same'))\n",
        "model.add(MaxPool2D(padding='same'))\n",
        "model.add(BatchNormalization())\n",
        "\n",
        "model.add(Conv2D(128, kernel_size=(3,3), strides=(2,2), activation='relu', kernel_initializer='he_uniform', padding='same'))\n",
        "model.add(MaxPool2D(padding='same'))\n",
        "model.add(BatchNormalization())\n",
        "\n",
        "model.add(Conv2D(256, kernel_size=(3,3), strides=(2,2), activation='relu', kernel_initializer='he_uniform', padding='same'))\n",
        "model.add(MaxPool2D(padding='same'))\n",
        "model.add(BatchNormalization())\n",
        "\n",
        "model.add(Conv2D(512, kernel_size=(3,3), strides=(2,2), activation='relu', kernel_initializer='he_uniform', padding='same'))\n",
        "model.add(MaxPool2D(padding='same'))\n",
        "model.add(BatchNormalization())\n",
        "\n",
        "model.add(Conv2D(728, kernel_size=(3,3), strides=(2,2), activation='relu', kernel_initializer='he_uniform', padding='same'))\n",
        "model.add(MaxPool2D(padding='same'))\n",
        "model.add(Flatten())\n",
        "\n",
        "model.add(Dense(1028, activation='relu', kernel_initializer='he_uniform'))\n",
        "model.add(BatchNormalization())\n",
        "model.add(Dense(26, activation='softmax', kernel_initializer='he_uniform'))\n",
        "\n",
        "model.summary()"
      ],
      "execution_count": null,
      "outputs": [
        {
          "output_type": "stream",
          "text": [
            "Model: \"sequential\"\n",
            "_________________________________________________________________\n",
            "Layer (type)                 Output Shape              Param #   \n",
            "=================================================================\n",
            "conv2d (Conv2D)              (None, 128, 128, 32)      320       \n",
            "_________________________________________________________________\n",
            "max_pooling2d (MaxPooling2D) (None, 64, 64, 32)        0         \n",
            "_________________________________________________________________\n",
            "batch_normalization (BatchNo (None, 64, 64, 32)        128       \n",
            "_________________________________________________________________\n",
            "conv2d_1 (Conv2D)            (None, 32, 32, 64)        18496     \n",
            "_________________________________________________________________\n",
            "max_pooling2d_1 (MaxPooling2 (None, 16, 16, 64)        0         \n",
            "_________________________________________________________________\n",
            "batch_normalization_1 (Batch (None, 16, 16, 64)        256       \n",
            "_________________________________________________________________\n",
            "conv2d_2 (Conv2D)            (None, 8, 8, 128)         73856     \n",
            "_________________________________________________________________\n",
            "max_pooling2d_2 (MaxPooling2 (None, 4, 4, 128)         0         \n",
            "_________________________________________________________________\n",
            "batch_normalization_2 (Batch (None, 4, 4, 128)         512       \n",
            "_________________________________________________________________\n",
            "conv2d_3 (Conv2D)            (None, 2, 2, 256)         295168    \n",
            "_________________________________________________________________\n",
            "max_pooling2d_3 (MaxPooling2 (None, 1, 1, 256)         0         \n",
            "_________________________________________________________________\n",
            "batch_normalization_3 (Batch (None, 1, 1, 256)         1024      \n",
            "_________________________________________________________________\n",
            "conv2d_4 (Conv2D)            (None, 1, 1, 512)         1180160   \n",
            "_________________________________________________________________\n",
            "max_pooling2d_4 (MaxPooling2 (None, 1, 1, 512)         0         \n",
            "_________________________________________________________________\n",
            "batch_normalization_4 (Batch (None, 1, 1, 512)         2048      \n",
            "_________________________________________________________________\n",
            "conv2d_5 (Conv2D)            (None, 1, 1, 728)         3355352   \n",
            "_________________________________________________________________\n",
            "max_pooling2d_5 (MaxPooling2 (None, 1, 1, 728)         0         \n",
            "_________________________________________________________________\n",
            "flatten (Flatten)            (None, 728)               0         \n",
            "_________________________________________________________________\n",
            "dense (Dense)                (None, 1028)              749412    \n",
            "_________________________________________________________________\n",
            "batch_normalization_5 (Batch (None, 1028)              4112      \n",
            "_________________________________________________________________\n",
            "dense_1 (Dense)              (None, 26)                26754     \n",
            "=================================================================\n",
            "Total params: 5,707,598\n",
            "Trainable params: 5,703,558\n",
            "Non-trainable params: 4,040\n",
            "_________________________________________________________________\n"
          ],
          "name": "stdout"
        }
      ]
    },
    {
      "cell_type": "code",
      "metadata": {
        "id": "z5uB46oxaEcX"
      },
      "source": [
        "model.compile(loss='sparse_categorical_crossentropy', optimizer='adam', metrics=['accuracy'])"
      ],
      "execution_count": null,
      "outputs": []
    },
    {
      "cell_type": "markdown",
      "metadata": {
        "id": "AqhQcUmJXsMM"
      },
      "source": [
        "#Train, Test, and Evaluation"
      ]
    },
    {
      "cell_type": "code",
      "metadata": {
        "id": "CN5qYPWbaZ0A"
      },
      "source": [
        "es = EarlyStopping(patience=1, restore_best_weights=True)"
      ],
      "execution_count": null,
      "outputs": []
    },
    {
      "cell_type": "code",
      "metadata": {
        "colab": {
          "base_uri": "https://localhost:8080/"
        },
        "id": "TK8SlpAiaPYm",
        "outputId": "21622254-de5a-488c-a45e-a7c17d57f6ac"
      },
      "source": [
        "history = model.fit(training_data,validation_data=val_data, batch_size=batch_size, epochs=10, verbose=1, callbacks=[es], steps_per_epoch=100)"
      ],
      "execution_count": null,
      "outputs": [
        {
          "output_type": "stream",
          "text": [
            "Epoch 1/10\n",
            "100/100 [==============================] - 151s 1s/step - loss: 1.2441 - accuracy: 0.6755 - val_loss: 5.1113 - val_accuracy: 0.1971\n",
            "Epoch 2/10\n",
            "100/100 [==============================] - 128s 1s/step - loss: 0.1529 - accuracy: 0.9616 - val_loss: 1.0981 - val_accuracy: 0.7401\n",
            "Epoch 3/10\n",
            "100/100 [==============================] - 126s 1s/step - loss: 0.1042 - accuracy: 0.9688 - val_loss: 0.2590 - val_accuracy: 0.9471\n",
            "Epoch 4/10\n",
            "100/100 [==============================] - 125s 1s/step - loss: 0.1269 - accuracy: 0.9646 - val_loss: 0.2038 - val_accuracy: 0.9589\n",
            "Epoch 5/10\n",
            "100/100 [==============================] - 965s 10s/step - loss: 0.1011 - accuracy: 0.9742 - val_loss: 0.0455 - val_accuracy: 0.9868\n",
            "Epoch 6/10\n",
            "100/100 [==============================] - 931s 9s/step - loss: 0.0693 - accuracy: 0.9811 - val_loss: 0.0369 - val_accuracy: 0.9923\n",
            "Epoch 7/10\n",
            " 56/100 [===============>..............] - ETA: 5:34 - loss: 0.0417 - accuracy: 0.9908WARNING:tensorflow:Your input ran out of data; interrupting training. Make sure that your dataset or generator can generate at least `steps_per_epoch * epochs` batches (in this case, 1000 batches). You may need to use the repeat() function when building your dataset.\n",
            "100/100 [==============================] - 448s 4s/step - loss: 0.0400 - accuracy: 0.9908 - val_loss: 0.0445 - val_accuracy: 0.9912\n"
          ],
          "name": "stdout"
        }
      ]
    },
    {
      "cell_type": "code",
      "metadata": {
        "colab": {
          "base_uri": "https://localhost:8080/",
          "height": 573
        },
        "id": "knxooemXeK22",
        "outputId": "69de9000-05a1-49a5-f328-004cbf47484a"
      },
      "source": [
        "acc = history.history['accuracy']\n",
        "val_acc = history.history['val_accuracy']\n",
        "loss = history.history['loss']\n",
        "val_loss = history.history['val_loss']\n",
        "\n",
        "plt.plot(acc, color='blue', label='training')\n",
        "plt.plot(val_acc, color='orange', label='val')\n",
        "plt.legend()\n",
        "plt.xlabel('Epochs')\n",
        "plt.title('Accuracy')\n",
        "plt.show()\n",
        "\n",
        "plt.plot(loss, color='blue', label='training')\n",
        "plt.plot(val_loss, color='orange', label='val')\n",
        "plt.legend()\n",
        "plt.xlabel('Epochs')\n",
        "plt.title('Loss')\n",
        "plt.show()"
      ],
      "execution_count": null,
      "outputs": [
        {
          "output_type": "display_data",
          "data": {
            "image/png": "[encoded data removed]",
            "text/plain": [
              "<Figure size 432x288 with 1 Axes>"
            ]
          },
          "metadata": {
            "tags": [],
            "needs_background": "light"
          }
        },
        {
          "output_type": "display_data",
          "data": {
            "image/png": "[encoded data removed]",
            "text/plain": [
              "<Figure size 432x288 with 1 Axes>"
            ]
          },
          "metadata": {
            "tags": [],
            "needs_background": "light"
          }
        }
      ]
    },
    {
      "cell_type": "code",
      "metadata": {
        "colab": {
          "base_uri": "https://localhost:8080/"
        },
        "id": "71Q3pMql3Q1e",
        "outputId": "d90368a8-2e48-4fe8-8fe8-c5432176e5df"
      },
      "source": [
        "print(model.evaluate(test_data))"
      ],
      "execution_count": null,
      "outputs": [
        {
          "output_type": "stream",
          "text": [
            "50/50 [==============================] - 15s 186ms/step - loss: 0.0434 - accuracy: 0.9893\n",
            "[0.04339022934436798, 0.9893283247947693]\n"
          ],
          "name": "stdout"
        }
      ]
    },
    {
      "cell_type": "code",
      "metadata": {
        "colab": {
          "base_uri": "https://localhost:8080/"
        },
        "id": "ZhRm1XVTtbKr",
        "outputId": "d7c48e2b-ce6d-4e3a-e07f-5cdedb71239e"
      },
      "source": [
        "print(len(test_data))"
      ],
      "execution_count": null,
      "outputs": [
        {
          "output_type": "stream",
          "text": [
            "50\n"
          ],
          "name": "stdout"
        }
      ]
    },
    {
      "cell_type": "markdown",
      "metadata": {
        "id": "CxU_pJiT7IGD"
      },
      "source": [
        "#Model Prediction"
      ]
    },
    {
      "cell_type": "code",
      "metadata": {
        "colab": {
          "base_uri": "https://localhost:8080/",
          "height": 355
        },
        "id": "O4PFvQGL7KGP",
        "outputId": "90df8778-e5fa-45bb-8a7b-b1afc5c78ca1"
      },
      "source": [
        "img_path = './drive/MyDrive/TestImg.jpg'\n",
        "img = load_img(img_path, target_size=(256,256), grayscale=True, color_mode='grayscale')\n",
        "img = img_to_array(img)\n",
        "image_array = tf.expand_dims(img,0)\n",
        "\n",
        "\n",
        "img = img.reshape(256,256)\n",
        "plt.imshow(img)\n",
        "plt.axis('off')\n",
        "\n",
        "plt.show()\n",
        "\n",
        "y_pred = model.predict_classes(image_array)\n",
        "print(y_pred)"
      ],
      "execution_count": null,
      "outputs": [
        {
          "output_type": "stream",
          "text": [
            "/usr/local/lib/python3.7/dist-packages/keras_preprocessing/image/utils.py:107: UserWarning: grayscale is deprecated. Please use color_mode = \"grayscale\"\n",
            "  warnings.warn('grayscale is deprecated. Please use '\n"
          ],
          "name": "stderr"
        },
        {
          "output_type": "display_data",
          "data": {
            "image/png": "[encoded data removed]",
            "text/plain": [
              "<Figure size 432x288 with 1 Axes>"
            ]
          },
          "metadata": {
            "tags": [],
            "needs_background": "light"
          }
        },
        {
          "output_type": "stream",
          "text": [
            "/usr/local/lib/python3.7/dist-packages/keras/engine/sequential.py:450: UserWarning: `model.predict_classes()` is deprecated and will be removed after 2021-01-01. Please use instead:* `np.argmax(model.predict(x), axis=-1)`,   if your model does multi-class classification   (e.g. if it uses a `softmax` last-layer activation).* `(model.predict(x) > 0.5).astype(\"int32\")`,   if your model does binary classification   (e.g. if it uses a `sigmoid` last-layer activation).\n",
            "  warnings.warn('`model.predict_classes()` is deprecated and '\n"
          ],
          "name": "stderr"
        },
        {
          "output_type": "stream",
          "text": [
            "[8]\n"
          ],
          "name": "stdout"
        }
      ]
    },
    {
      "cell_type": "code",
      "metadata": {
        "id": "Sko_WaTE-YKg"
      },
      "source": [
        ""
      ],
      "execution_count": null,
      "outputs": []
    }
  ]
}